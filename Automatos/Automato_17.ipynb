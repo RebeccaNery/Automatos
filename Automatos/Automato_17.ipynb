{
  "nbformat": 4,
  "nbformat_minor": 0,
  "metadata": {
    "colab": {
      "provenance": []
    },
    "kernelspec": {
      "name": "python3",
      "display_name": "Python 3"
    },
    "language_info": {
      "name": "python"
    }
  },
  "cells": [
    {
      "cell_type": "code",
      "execution_count": 2,
      "metadata": {
        "colab": {
          "base_uri": "https://localhost:8080/"
        },
        "id": "9ASKuuHuC_M5",
        "outputId": "28780619-7945-411d-b3a6-9b40def983a6"
      },
      "outputs": [
        {
          "output_type": "stream",
          "name": "stdout",
          "text": [
            "String '01' é aceita pelo AFD? True\n",
            "String '00' é aceita pelo AFD? False\n",
            "String '111' é aceita pelo AFD? False\n",
            "String '010' é aceita pelo AFD? False\n",
            "String '0101' é aceita pelo AFD? True\n",
            "String '1100' é aceita pelo AFD? False\n",
            "String '000100100' é aceita pelo AFD? False\n",
            "String '1111111' é aceita pelo AFD? False\n",
            "String '0110' é aceita pelo AFD? False\n",
            "String '0100011100010' é aceita pelo AFD? False\n",
            "String '000' é aceita pelo AFD? False\n",
            "String '101010' é aceita pelo AFD? False\n",
            "String '0001110100' é aceita pelo AFD? False\n"
          ]
        }
      ],
      "source": [
        "class NFA:\n",
        "    def __init__(self, states, alphabet, transition_function, start_state, accept_states):\n",
        "        self.states = states\n",
        "        self.alphabet = alphabet\n",
        "        self.transition_function = transition_function\n",
        "        self.start_state = start_state\n",
        "        self.accept_states = accept_states\n",
        "\n",
        "    def _move(self, states, symbol):\n",
        "        new_states = set()\n",
        "        for state in states:\n",
        "            if state in self.transition_function and symbol in self.transition_function[state]:\n",
        "                new_states.update(self.transition_function[state][symbol])\n",
        "        return new_states\n",
        "\n",
        "class DFA:\n",
        "    def __init__(self, dfa_transitions, dfa_start_state, dfa_accept_states):\n",
        "        self.dfa_transitions = dfa_transitions\n",
        "        self.dfa_start_state = dfa_start_state\n",
        "        self.dfa_accept_states = dfa_accept_states\n",
        "\n",
        "    def accept(self, input_string):\n",
        "        current_state = self.dfa_start_state\n",
        "        for symbol in input_string:\n",
        "            if symbol in self.dfa_transitions[current_state]:\n",
        "                current_state = self.dfa_transitions[current_state][symbol]\n",
        "            else:\n",
        "                return False\n",
        "        return current_state in self.dfa_accept_states\n",
        "\n",
        "def convert_nfa_to_dfa(nfa):\n",
        "    # Inicializando as estruturas para o AFD\n",
        "    dfa_transitions = {}\n",
        "    dfa_start_state = frozenset([nfa.start_state])\n",
        "    dfa_states = [dfa_start_state]\n",
        "    dfa_accept_states = set()\n",
        "    processed_states = []\n",
        "\n",
        "    while dfa_states:\n",
        "        current_dfa_state = dfa_states.pop()\n",
        "        processed_states.append(current_dfa_state)\n",
        "\n",
        "        # Inicializando as transições para este estado do AFD\n",
        "        dfa_transitions[current_dfa_state] = {}\n",
        "\n",
        "        for symbol in nfa.alphabet:\n",
        "            # Movendo para novos estados a partir do NFA\n",
        "            next_state = nfa._move(current_dfa_state, symbol)\n",
        "\n",
        "            if next_state:\n",
        "                next_state_frozen = frozenset(next_state)\n",
        "\n",
        "                # Se o novo estado ainda não foi processado, adiciona na fila\n",
        "                if next_state_frozen not in processed_states and next_state_frozen not in dfa_states:\n",
        "                    dfa_states.append(next_state_frozen)\n",
        "\n",
        "                # Adiciona a transição ao AFD\n",
        "                dfa_transitions[current_dfa_state][symbol] = next_state_frozen\n",
        "\n",
        "                # Verifica se o novo estado é de aceitação\n",
        "                if next_state_frozen & nfa.accept_states:\n",
        "                    dfa_accept_states.add(next_state_frozen)\n",
        "\n",
        "    return DFA(dfa_transitions, dfa_start_state, dfa_accept_states)\n",
        "\n",
        "# Definição do AFN para strings terminadas em '01'\n",
        "states = {'q0', 'q1', 'q2'}\n",
        "alphabet = {'0', '1'}\n",
        "transition_function = {\n",
        "    'q0': {'0': {'q0','q1'}, '1': {'q0'}},\n",
        "    'q1': {'1': {'q2'}}\n",
        "}\n",
        "start_state = 'q0'\n",
        "accept_states = {'q2'}\n",
        "\n",
        "# Inicializando o AFN\n",
        "nfa = NFA(states, alphabet, transition_function, start_state, accept_states)\n",
        "\n",
        "# Convertendo AFN para AFD\n",
        "dfa = convert_nfa_to_dfa(nfa)\n",
        "\n",
        "# Testando o AFD\n",
        "test_strings = ['01', '00', '111', '010', '0101', '1100', '000100100', '1111111', '0110', '0100011100010', '000', '101010', '0001110100']\n",
        "for string in test_strings:\n",
        "    print(f\"String '{string}' é aceita pelo AFD? {dfa.accept(string)}\")\n"
      ]
    }
  ]
}